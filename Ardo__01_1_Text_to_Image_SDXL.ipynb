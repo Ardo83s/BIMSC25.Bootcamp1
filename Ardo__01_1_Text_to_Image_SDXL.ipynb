{
  "nbformat": 4,
  "nbformat_minor": 0,
  "metadata": {
    "colab": {
      "provenance": [],
      "gpuType": "T4",
      "machine_shape": "hm",
      "include_colab_link": true
    },
    "kernelspec": {
      "name": "python3",
      "display_name": "Python 3"
    },
    "language_info": {
      "name": "python"
    },
    "accelerator": "GPU"
  },
  "cells": [
    {
      "cell_type": "markdown",
      "metadata": {
        "id": "view-in-github",
        "colab_type": "text"
      },
      "source": [
        "<a href=\"https://colab.research.google.com/github/Ardo83s/BIMSC25.Bootcamp1/blob/main/Ardo__01_1_Text_to_Image_SDXL.ipynb\" target=\"_parent\"><img src=\"https://colab.research.google.com/assets/colab-badge.svg\" alt=\"Open In Colab\"/></a>"
      ]
    },
    {
      "cell_type": "markdown",
      "source": [
        "# 🖼️ Text-to-Image with SDXL\n",
        "\n",
        "🤗 This notebook uses Hugging Face Diffusers package to create image generation pipelines.\n",
        "\n",
        "⚠️ **Remember to copy this notebook in your Drive and rename.**\n",
        "\n",
        "**[Nono Martínez Alonso](https://youtube.com/NonoMartinezAlonso), [James McBennett](https://www.linkedin.com/in/mcbennett/) & [Michal Gryko](https://www.linkedin.com/in/micha%C5%82-gryko-952892131/)**\n",
        "\n",
        "\n",
        "April - June 2025\n"
      ],
      "metadata": {
        "id": "zxFIWWSQbkdR"
      }
    },
    {
      "cell_type": "markdown",
      "source": [
        "### Mount Drive"
      ],
      "metadata": {
        "id": "4WH5l1t1bd-g"
      }
    },
    {
      "cell_type": "code",
      "source": [
        "# Mount Drive\n",
        "from google.colab import drive\n",
        "drive.mount('/content/drive', force_remount=True)"
      ],
      "metadata": {
        "id": "1Qx7RWiVbogA",
        "colab": {
          "base_uri": "https://localhost:8080/"
        },
        "outputId": "a27a6bc0-21bf-478a-eee4-b2a64ac490f7"
      },
      "execution_count": 4,
      "outputs": [
        {
          "output_type": "stream",
          "name": "stdout",
          "text": [
            "Mounted at /content/drive\n"
          ]
        }
      ]
    },
    {
      "cell_type": "markdown",
      "source": [
        "## Setup"
      ],
      "metadata": {
        "id": "eLCf3aJMKmMw"
      }
    },
    {
      "cell_type": "code",
      "execution_count": 5,
      "metadata": {
        "id": "eYJ0_NmLUMaK",
        "colab": {
          "base_uri": "https://localhost:8080/"
        },
        "outputId": "e696a2f0-319a-4ea7-b3f9-4e081d96e002"
      },
      "outputs": [
        {
          "output_type": "stream",
          "name": "stdout",
          "text": [
            "/content\n",
            "Cloning into 'creative-image-generation'...\n",
            "remote: Enumerating objects: 137, done.\u001b[K\n",
            "remote: Counting objects: 100% (137/137), done.\u001b[K\n",
            "remote: Compressing objects: 100% (94/94), done.\u001b[K\n",
            "remote: Total 137 (delta 68), reused 104 (delta 39), pack-reused 0 (from 0)\u001b[K\n",
            "Receiving objects: 100% (137/137), 33.36 KiB | 5.56 MiB/s, done.\n",
            "Resolving deltas: 100% (68/68), done.\n",
            "/content/creative-image-generation\n"
          ]
        }
      ],
      "source": [
        "%cd /content\n",
        "!rm -rf creative-image-generation\n",
        "!git clone https://github.com/nonoesp/creative-image-generation\n",
        "%cd /content/creative-image-generation/"
      ]
    },
    {
      "cell_type": "code",
      "execution_count": 6,
      "metadata": {
        "id": "pjOneraKbH7r"
      },
      "outputs": [],
      "source": [
        "import sys\n",
        "sys.path.append('/content/creative-image-generation')"
      ]
    },
    {
      "cell_type": "code",
      "source": [
        "!pip install -q -r requirements.txt --quiet > /dev/null 2>&1"
      ],
      "metadata": {
        "id": "beo6jXdWx3Dl"
      },
      "execution_count": 7,
      "outputs": []
    },
    {
      "cell_type": "code",
      "source": [
        "from config import Config\n",
        "from utils import set_image_path, save_image, save_meta, save_params_image\n",
        "import torch"
      ],
      "metadata": {
        "id": "d-swkg0fYlln"
      },
      "execution_count": 10,
      "outputs": []
    },
    {
      "cell_type": "markdown",
      "source": [
        "## Output Directory"
      ],
      "metadata": {
        "id": "j0R1fMIpPoGS"
      }
    },
    {
      "cell_type": "code",
      "source": [
        "Config.OUTPUT_DIR = \"/content/drive/MyDrive/output\""
      ],
      "metadata": {
        "id": "Q97KCjIKPqHy"
      },
      "execution_count": 16,
      "outputs": []
    },
    {
      "cell_type": "markdown",
      "source": [
        "## Load pipeline\n",
        "\n",
        "Load a pipeline with Hugging Face Diffusers."
      ],
      "metadata": {
        "id": "96huyxc6cA6w"
      }
    },
    {
      "cell_type": "code",
      "source": [
        "# Create pipeline.\n",
        "from diffusers import StableDiffusionXLPipeline\n",
        "pipe = StableDiffusionXLPipeline.from_pretrained('stabilityai/stable-diffusion-xl-base-1.0', torch_dtype=torch.float16).to(Config.TORCH_DEVICE)"
      ],
      "metadata": {
        "id": "RtdCw6hjyUQ8",
        "colab": {
          "base_uri": "https://localhost:8080/",
          "height": 176
        },
        "outputId": "657cadba-5e7e-4641-b584-ddac6fd8b0c4"
      },
      "execution_count": 2,
      "outputs": [
        {
          "output_type": "error",
          "ename": "NameError",
          "evalue": "name 'torch' is not defined",
          "traceback": [
            "\u001b[0;31m---------------------------------------------------------------------------\u001b[0m",
            "\u001b[0;31mNameError\u001b[0m                                 Traceback (most recent call last)",
            "\u001b[0;32m<ipython-input-2-2719c2fc5469>\u001b[0m in \u001b[0;36m<cell line: 0>\u001b[0;34m()\u001b[0m\n\u001b[1;32m      1\u001b[0m \u001b[0;31m# Create pipeline.\u001b[0m\u001b[0;34m\u001b[0m\u001b[0;34m\u001b[0m\u001b[0m\n\u001b[1;32m      2\u001b[0m \u001b[0;32mfrom\u001b[0m \u001b[0mdiffusers\u001b[0m \u001b[0;32mimport\u001b[0m \u001b[0mStableDiffusionXLPipeline\u001b[0m\u001b[0;34m\u001b[0m\u001b[0;34m\u001b[0m\u001b[0m\n\u001b[0;32m----> 3\u001b[0;31m \u001b[0mpipe\u001b[0m \u001b[0;34m=\u001b[0m \u001b[0mStableDiffusionXLPipeline\u001b[0m\u001b[0;34m.\u001b[0m\u001b[0mfrom_pretrained\u001b[0m\u001b[0;34m(\u001b[0m\u001b[0;34m'stabilityai/stable-diffusion-xl-base-1.0'\u001b[0m\u001b[0;34m,\u001b[0m \u001b[0mtorch_dtype\u001b[0m\u001b[0;34m=\u001b[0m\u001b[0mtorch\u001b[0m\u001b[0;34m.\u001b[0m\u001b[0mfloat16\u001b[0m\u001b[0;34m)\u001b[0m\u001b[0;34m.\u001b[0m\u001b[0mto\u001b[0m\u001b[0;34m(\u001b[0m\u001b[0mConfig\u001b[0m\u001b[0;34m.\u001b[0m\u001b[0mTORCH_DEVICE\u001b[0m\u001b[0;34m)\u001b[0m\u001b[0;34m\u001b[0m\u001b[0;34m\u001b[0m\u001b[0m\n\u001b[0m",
            "\u001b[0;31mNameError\u001b[0m: name 'torch' is not defined"
          ]
        }
      ]
    },
    {
      "cell_type": "markdown",
      "source": [
        "## Config\n",
        "\n",
        "You can override parameters here."
      ],
      "metadata": {
        "id": "jZpn6kOObu8Z"
      }
    },
    {
      "cell_type": "code",
      "source": [
        "Config.PROMPT = \"Aerial view of eco-dystopian flooded New York, gothic ruins in rising seas, decaying skyscrapers, canals through wreckage, steampunk debris, abandoned boats, toxic haze, cosmic sky, dark surrealism, overgrown rooftops, haunting beauty, inspired by Bosch and Escher, hyper-detailed, magical realism.\"\n",
        "\n",
        "Config.AUTHOR = 'Ardo'\n",
        "Config.ALGO_TYPE = 'Text to Image'\n",
        "Config.ALGO_NAME = 'SDXL'\n",
        "\n",
        "Config.check()"
      ],
      "metadata": {
        "id": "y49xynhkUv2n",
        "colab": {
          "base_uri": "https://localhost:8080/"
        },
        "outputId": "aab71fa8-7956-4366-83c7-139c9917ef1c"
      },
      "execution_count": 40,
      "outputs": [
        {
          "output_type": "stream",
          "name": "stdout",
          "text": [
            "Config OK.\n"
          ]
        }
      ]
    },
    {
      "cell_type": "markdown",
      "source": [
        "## Generate"
      ],
      "metadata": {
        "id": "MXoxfXSkcSi4"
      }
    },
    {
      "cell_type": "code",
      "source": [
        "# Generate.\n",
        "generator = torch.Generator(Config.TORCH_DEVICE).manual_seed(Config.SEED)\n",
        "image = pipe(Config.PROMPT, num_inference_steps=Config.STEPS, generator=generator).images[0]\n",
        "set_image_path()\n",
        "display(image)"
      ],
      "metadata": {
        "id": "qQ-y1zIBb-4Q",
        "colab": {
          "base_uri": "https://localhost:8080/",
          "height": 211
        },
        "outputId": "9328a7a5-8eeb-4f55-8ef3-1a52a7058bf9"
      },
      "execution_count": 1,
      "outputs": [
        {
          "output_type": "error",
          "ename": "NameError",
          "evalue": "name 'torch' is not defined",
          "traceback": [
            "\u001b[0;31m---------------------------------------------------------------------------\u001b[0m",
            "\u001b[0;31mNameError\u001b[0m                                 Traceback (most recent call last)",
            "\u001b[0;32m<ipython-input-1-9841eaf202c0>\u001b[0m in \u001b[0;36m<cell line: 0>\u001b[0;34m()\u001b[0m\n\u001b[1;32m      1\u001b[0m \u001b[0;31m# Generate.\u001b[0m\u001b[0;34m\u001b[0m\u001b[0;34m\u001b[0m\u001b[0m\n\u001b[0;32m----> 2\u001b[0;31m \u001b[0mgenerator\u001b[0m \u001b[0;34m=\u001b[0m \u001b[0mtorch\u001b[0m\u001b[0;34m.\u001b[0m\u001b[0mGenerator\u001b[0m\u001b[0;34m(\u001b[0m\u001b[0mConfig\u001b[0m\u001b[0;34m.\u001b[0m\u001b[0mTORCH_DEVICE\u001b[0m\u001b[0;34m)\u001b[0m\u001b[0;34m.\u001b[0m\u001b[0mmanual_seed\u001b[0m\u001b[0;34m(\u001b[0m\u001b[0mConfig\u001b[0m\u001b[0;34m.\u001b[0m\u001b[0mSEED\u001b[0m\u001b[0;34m)\u001b[0m\u001b[0;34m\u001b[0m\u001b[0;34m\u001b[0m\u001b[0m\n\u001b[0m\u001b[1;32m      3\u001b[0m \u001b[0mimage\u001b[0m \u001b[0;34m=\u001b[0m \u001b[0mpipe\u001b[0m\u001b[0;34m(\u001b[0m\u001b[0mConfig\u001b[0m\u001b[0;34m.\u001b[0m\u001b[0mPROMPT\u001b[0m\u001b[0;34m,\u001b[0m \u001b[0mnum_inference_steps\u001b[0m\u001b[0;34m=\u001b[0m\u001b[0mConfig\u001b[0m\u001b[0;34m.\u001b[0m\u001b[0mSTEPS\u001b[0m\u001b[0;34m,\u001b[0m \u001b[0mgenerator\u001b[0m\u001b[0;34m=\u001b[0m\u001b[0mgenerator\u001b[0m\u001b[0;34m)\u001b[0m\u001b[0;34m.\u001b[0m\u001b[0mimages\u001b[0m\u001b[0;34m[\u001b[0m\u001b[0;36m0\u001b[0m\u001b[0;34m]\u001b[0m\u001b[0;34m\u001b[0m\u001b[0;34m\u001b[0m\u001b[0m\n\u001b[1;32m      4\u001b[0m \u001b[0mset_image_path\u001b[0m\u001b[0;34m(\u001b[0m\u001b[0;34m)\u001b[0m\u001b[0;34m\u001b[0m\u001b[0;34m\u001b[0m\u001b[0m\n\u001b[1;32m      5\u001b[0m \u001b[0mdisplay\u001b[0m\u001b[0;34m(\u001b[0m\u001b[0mimage\u001b[0m\u001b[0;34m)\u001b[0m\u001b[0;34m\u001b[0m\u001b[0;34m\u001b[0m\u001b[0m\n",
            "\u001b[0;31mNameError\u001b[0m: name 'torch' is not defined"
          ]
        }
      ]
    },
    {
      "cell_type": "markdown",
      "source": [
        "## Save\n",
        "\n",
        "Save the pipeline and config metadata, generated image, and the parameters image."
      ],
      "metadata": {
        "id": "R-u7TSxVTktd"
      }
    },
    {
      "cell_type": "code",
      "source": [
        "# Save metadata and image.\n",
        "save_meta(pipe)\n",
        "save_image(image)"
      ],
      "metadata": {
        "id": "EAn48YfIWEdY"
      },
      "execution_count": null,
      "outputs": []
    },
    {
      "cell_type": "code",
      "source": [
        "# Save parameters image.\n",
        "save_params_image({\n",
        "    'SEED': Config.SEED,\n",
        "    'STEPS': Config.STEPS,\n",
        "    'Google Colab'\n",
        "})"
      ],
      "metadata": {
        "id": "YCs4X80CRRGU"
      },
      "execution_count": null,
      "outputs": []
    }
  ]
}